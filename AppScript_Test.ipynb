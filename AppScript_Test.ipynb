{
  "nbformat": 4,
  "nbformat_minor": 0,
  "metadata": {
    "colab": {
      "provenance": [],
      "toc_visible": true
    },
    "kernelspec": {
      "name": "python3",
      "display_name": "Python 3"
    },
    "language_info": {
      "name": "python"
    }
  },
  "cells": [
    {
      "cell_type": "code",
      "execution_count": 11,
      "metadata": {
        "id": "baMauaTJPi6t"
      },
      "outputs": [],
      "source": [
        "from google.colab import auth\n",
        "auth.authenticate_user()\n",
        "       "
      ]
    },
    {
      "cell_type": "code",
      "source": [
        "from google.auth import default\n",
        "import gspread\n",
        "creds, _ = default()\n",
        "gc = gspread.authorize(creds)        "
      ],
      "metadata": {
        "id": "gCsiGpP_SCgV"
      },
      "execution_count": 12,
      "outputs": []
    },
    {
      "cell_type": "code",
      "source": [
        "worksheet = gc.open('hello').sheet1\n",
        "list_of_dicts = worksheet.get_all_records()\n",
        "print(list_of_dicts)\n",
        "\n",
        "            "
      ],
      "metadata": {
        "id": "JNmvAsFlSCr1",
        "colab": {
          "base_uri": "https://localhost:8080/"
        },
        "outputId": "c75da66f-2b7e-4700-a36b-a598c6d74b11"
      },
      "execution_count": 13,
      "outputs": [
        {
          "output_type": "stream",
          "name": "stdout",
          "text": [
            "[{'Timestamp': '5/8/2023 13:01:04', \"User ID (Don't edit this)\": 'b5711006-f9ef-4171-a6c7-1e1852f89608', 'Name': 'iliyas', 'Amazon Sales Dashboard Screenshot Drive link \\n(You can paste the drive link here)': 'https://drive.google.com/file/d/1NcWx46LzpTTtoNLLqG01_jtl_5IKlicl/view?usp=share_link', 'You can also share your key insights and recommendations': 'Amazon Sales Dashboard Which Contains the Total Sales and Profit by different category and month, year ', 'Percentage ': '', 'Grade': '', 'Solution Url ': 'https://drive.google.com/file/d/13vJuRFuMY8tQByl56gZIL1rL-9TtzxaL/view'}, {'Timestamp': '5/8/2023 13:01:34', \"User ID (Don't edit this)\": 'a4f31c11-b4a1-4ec9-ae49-aae0509097db', 'Name': 'Ajay Samudrala', 'Amazon Sales Dashboard Screenshot Drive link \\n(You can paste the drive link here)': 'https://drive.google.com/file/d/12OrIlNHuGbAOYZAkTkbVhWTTJ_mnUh2H/view?usp=sharing', 'You can also share your key insights and recommendations': '', 'Percentage ': '', 'Grade': '', 'Solution Url ': ''}, {'Timestamp': '5/8/2023 13:27:35', \"User ID (Don't edit this)\": '165ab5a3-1b14-4489-9635-8b4cbe3af303', 'Name': 'SAURAV', 'Amazon Sales Dashboard Screenshot Drive link \\n(You can paste the drive link here)': 'https://drive.google.com/file/d/14uADhMMylV_zAoKBgZEJvnGEYrgzi5eL/view?usp=sharing', 'You can also share your key insights and recommendations': 'Hello Sir \\nI create Amazon Sales Dashboard . \\nI am using many chart i.e  Column chart , Pie chart , Line chart , Table etc .  ', 'Percentage ': '', 'Grade': '', 'Solution Url ': ''}, {'Timestamp': '5/8/2023 13:48:08', \"User ID (Don't edit this)\": '5ca85c7e-7bfc-448c-8df8-038ff31dddd1', 'Name': 'Nalla Mallikarjun Naveen', 'Amazon Sales Dashboard Screenshot Drive link \\n(You can paste the drive link here)': 'https://drive.google.com/file/d/1F7zrzcG0b0I-PKh07pqARex45tTSVYgk/view?usp=sharing', 'You can also share your key insights and recommendations': '', 'Percentage ': '', 'Grade': '', 'Solution Url ': ''}, {'Timestamp': '5/8/2023 14:14:01', \"User ID (Don't edit this)\": '2c0c959d-86f6-4379-82e4-349f1e5f7915', 'Name': 'Chandra Deep Varma. Namburi', 'Amazon Sales Dashboard Screenshot Drive link \\n(You can paste the drive link here)': 'https://drive.google.com/file/d/1-3vfym3Oz09QKd0zB7b8WE-aJZmDBK5U/view?usp=sharing', 'You can also share your key insights and recommendations': 'Insights\\n1. During the last Quarter of the Year i.e, October, November, December, Sales and profits are Higher.\\n2. New York City has the highest sales and profits.\\n', 'Percentage ': '', 'Grade': '', 'Solution Url ': ''}, {'Timestamp': '5/8/2023 14:27:44', \"User ID (Don't edit this)\": '0a84016b-fd3f-44d8-a2a4-bb969a22cd90', 'Name': 'Pranjal Chavan', 'Amazon Sales Dashboard Screenshot Drive link \\n(You can paste the drive link here)': 'https://drive.google.com/file/d/1vkN89doRsmTVyGcKJHDaX7aIQ_rx_UfU/view?usp=sharing', 'You can also share your key insights and recommendations': '', 'Percentage ': '', 'Grade': '', 'Solution Url ': ''}, {'Timestamp': '5/8/2023 14:28:56', \"User ID (Don't edit this)\": '0a84016b-fd3f-44d8-a2a4-bb969a22cd90', 'Name': 'Pranjal Chavan', 'Amazon Sales Dashboard Screenshot Drive link \\n(You can paste the drive link here)': 'https://drive.google.com/file/d/1vkN89doRsmTVyGcKJHDaX7aIQ_rx_UfU/view?usp=sharing', 'You can also share your key insights and recommendations': '', 'Percentage ': '', 'Grade': '', 'Solution Url ': ''}]\n"
          ]
        }
      ]
    },
    {
      "cell_type": "code",
      "source": [
        "import requests\n",
        "from PIL import Image\n",
        "import numpy as np\n",
        "from skimage.metrics import structural_similarity as ssim\n"
      ],
      "metadata": {
        "id": "-M1mWqW0dLVU"
      },
      "execution_count": 14,
      "outputs": []
    },
    {
      "cell_type": "code",
      "source": [
        "#grade assigning \n",
        "def assign_grade(similarity_percentage):\n",
        "    if similarity_percentage==0:\n",
        "      grade='N'\n",
        "    elif similarity_percentage >= 90:\n",
        "        grade = 'A'\n",
        "    elif similarity_percentage >= 80:\n",
        "        grade = 'B'\n",
        "    elif similarity_percentage >= 70:\n",
        "        grade = 'C'\n",
        "    elif similarity_percentage >= 60:\n",
        "        grade = 'D'\n",
        "    else:\n",
        "        grade = 'F'\n",
        "    return grade"
      ],
      "metadata": {
        "id": "k5U98_PJeMjx"
      },
      "execution_count": 15,
      "outputs": []
    },
    {
      "cell_type": "code",
      "source": [],
      "metadata": {
        "id": "gAtz3khnLtUO"
      },
      "execution_count": null,
      "outputs": []
    },
    {
      "cell_type": "code",
      "source": [
        "##Image Comparison Logic\n",
        "def calculate_image_similarity(submission_image_path, solution_image_path):\n",
        "    solution_image = Image.open(solution_image_path)\n",
        "    # Open the images using PIL\n",
        "    try:\n",
        "      submission_image = Image.open(submission_image_path)\n",
        "    except IOError:\n",
        "      return 0\n",
        "    # Resize both images to the same dimensions\n",
        "    max_dimension = max(submission_image.width, submission_image.height, solution_image.width, solution_image.height)\n",
        "    submission_image_resized = submission_image.resize((max_dimension, max_dimension))\n",
        "    solution_image_resized = solution_image.resize((max_dimension, max_dimension))\n",
        "\n",
        "    # Convert images to grayscale for comparison\n",
        "    submission_image_gray = submission_image_resized.convert('L')\n",
        "    solution_image_gray = solution_image_resized.convert('L')\n",
        "\n",
        "    # Calculate the similarity between the images using the SSIM metric\n",
        "    similarity_score = ssim(np.array(submission_image_gray), np.array(solution_image_gray), data_range=submission_image_gray.getextrema()[1])\n",
        "\n",
        "    return similarity_score"
      ],
      "metadata": {
        "id": "xU-o8Ptlevww"
      },
      "execution_count": 16,
      "outputs": []
    },
    {
      "cell_type": "code",
      "source": [
        "#convert the drive link\n",
        "\n",
        "def convert_drive_link(input_link):\n",
        "    file_id = input_link.split('/')[-2]\n",
        "    download_link = f'https://drive.google.com/uc?export=download&id={file_id}'\n",
        "    return download_link\n"
      ],
      "metadata": {
        "id": "Y7jCrg-EgrYG"
      },
      "execution_count": 17,
      "outputs": []
    },
    {
      "cell_type": "code",
      "source": [
        "#downloading the file\n",
        "\n",
        "def download_file(url, filename):\n",
        "    response = requests.get(url)\n",
        "    with open(filename, 'wb') as file:\n",
        "        file.write(response.content)"
      ],
      "metadata": {
        "id": "W8p2Hab1hHDg"
      },
      "execution_count": 18,
      "outputs": []
    },
    {
      "cell_type": "code",
      "source": [
        "#main function \n",
        "import pandas as pd\n",
        "df = pd.DataFrame(list_of_dicts)\n",
        "my_len=len(df.iloc[:,3])\n",
        "my_list_percentage=[]\n",
        "my_list_grade=[]\n",
        "\n",
        "for value in df.iloc[1:,3]:\n",
        "  #converting the drive link\n",
        "\n",
        "  submission_drive_link_url = convert_drive_link(value)\n",
        "  solution_drive_link_url = convert_drive_link(df.iloc[0,7])\n",
        "  print(solution_drive_link_url)\n",
        "\n",
        "  #downloading the image\n",
        "  download_file(submission_drive_link_url, 'submission_screenshot.png')\n",
        "  download_file(solution_drive_link_url, 'solution_screenshot.png')\n",
        "\n",
        "  #calculating the similarity\n",
        "  similarity_score = calculate_image_similarity('submission_screenshot.png', 'solution_screenshot.png')\n",
        "  similarity_percentage = similarity_score * 100\n",
        "\n",
        "  #assigning the grade\n",
        "  grade = assign_grade(similarity_percentage)\n",
        "\n",
        "  #appending the values to lists\n",
        "  my_list_percentage.append(similarity_percentage)\n",
        "  my_list_grade.append(grade)"
      ],
      "metadata": {
        "colab": {
          "base_uri": "https://localhost:8080/"
        },
        "id": "oWVi7CPYSCz8",
        "outputId": "23f898ee-feaa-4d3b-eaa8-f1e5f8c623bb"
      },
      "execution_count": 19,
      "outputs": [
        {
          "output_type": "stream",
          "name": "stdout",
          "text": [
            "https://drive.google.com/uc?export=download&id=13vJuRFuMY8tQByl56gZIL1rL-9TtzxaL\n",
            "https://drive.google.com/uc?export=download&id=13vJuRFuMY8tQByl56gZIL1rL-9TtzxaL\n",
            "https://drive.google.com/uc?export=download&id=13vJuRFuMY8tQByl56gZIL1rL-9TtzxaL\n",
            "https://drive.google.com/uc?export=download&id=13vJuRFuMY8tQByl56gZIL1rL-9TtzxaL\n",
            "https://drive.google.com/uc?export=download&id=13vJuRFuMY8tQByl56gZIL1rL-9TtzxaL\n",
            "https://drive.google.com/uc?export=download&id=13vJuRFuMY8tQByl56gZIL1rL-9TtzxaL\n"
          ]
        }
      ]
    },
    {
      "cell_type": "code",
      "source": [],
      "metadata": {
        "id": "h4RDayYDSC61"
      },
      "execution_count": 19,
      "outputs": []
    },
    {
      "cell_type": "code",
      "source": [
        "#converting the values to a dataframe\n",
        "df1=pd.DataFrame()\n",
        "df1['Percentage'] = my_list_percentage\n",
        "df1['Grade']=my_list_grade\n",
        "\n",
        "print(df1['Percentage'],df1['Grade'])"
      ],
      "metadata": {
        "id": "Yxu_rmh8SC91",
        "colab": {
          "base_uri": "https://localhost:8080/"
        },
        "outputId": "78e38f15-b593-4a6b-f2a9-5e3e04eaf9d5"
      },
      "execution_count": 21,
      "outputs": [
        {
          "output_type": "stream",
          "name": "stdout",
          "text": [
            "0    48.328991\n",
            "1     0.000000\n",
            "2    47.038866\n",
            "3    55.258979\n",
            "4    53.070580\n",
            "5    53.070580\n",
            "Name: Percentage, dtype: float64 0    F\n",
            "1    N\n",
            "2    F\n",
            "3    F\n",
            "4    F\n",
            "5    F\n",
            "Name: Grade, dtype: object\n"
          ]
        }
      ]
    },
    {
      "cell_type": "code",
      "source": [],
      "metadata": {
        "id": "n1swAy8ESDAs"
      },
      "execution_count": 20,
      "outputs": []
    },
    {
      "cell_type": "code",
      "source": [],
      "metadata": {
        "id": "Gp-5c3K7SDD_"
      },
      "execution_count": 20,
      "outputs": []
    },
    {
      "cell_type": "code",
      "source": [],
      "metadata": {
        "id": "d-DlyfelSDG3"
      },
      "execution_count": 20,
      "outputs": []
    },
    {
      "cell_type": "code",
      "source": [],
      "metadata": {
        "id": "UBiYjwUMSDJ_"
      },
      "execution_count": 20,
      "outputs": []
    },
    {
      "cell_type": "code",
      "source": [],
      "metadata": {
        "id": "Sq2FgCgORouH"
      },
      "execution_count": 20,
      "outputs": []
    }
  ]
}